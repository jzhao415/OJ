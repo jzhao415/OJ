{
 "cells": [
  {
   "cell_type": "markdown",
   "metadata": {},
   "source": [
    "# Leecode Scala"
   ]
  },
  {
   "cell_type": "markdown",
   "metadata": {},
   "source": [
    "# 139  Word Break\n",
    "Given a non-empty string s and a dictionary wordDict containing a list of non-empty words, determine if s can be segmented into a space-separated sequence of one or more dictionary words. You may assume the dictionary does not contain duplicate words.\n",
    "\n",
    "For example, given\n",
    "s = \"leetcode\",\n",
    "dict = [\"leet\", \"code\"].\n",
    "\n",
    "Return true because \"leetcode\" can be segmented as \"leet code\".\n",
    "\n",
    "UPDATE (2017/1/4):\n",
    "The wordDict parameter had been changed to a list of strings (instead of a set of strings). Please reload the code definition to get the latest changes."
   ]
  },
  {
   "cell_type": "code",
   "execution_count": 1,
   "metadata": {
    "collapsed": false
   },
   "outputs": [
    {
     "data": {
      "text/plain": [
       "defined \u001b[32mobject \u001b[36mSolution\u001b[0m"
      ]
     },
     "metadata": {},
     "output_type": "display_data"
    }
   ],
   "source": [
    "object Solution {\n",
    "    def wordBreak(s: String, wordDict: Array[String]): Boolean = {\n",
    "        var found = Array.fill(s.length+1){false}\n",
    "        found(0) = true\n",
    "        for(i<- 1 to s.length){\n",
    "         println(\"for loop\", i)\n",
    "          for(word<-wordDict){\n",
    "             if(word.length<=i){\n",
    "                if(found(i-word.length)){\n",
    "                   println(\"substring\",s.substring(i-word.length, i))\n",
    "                   if(s.substring(i-word.length, i) == word){\n",
    "                     println(word)\n",
    "                     found(i) = true\n",
    "                     }\n",
    "                   \n",
    "                }\n",
    "            }\n",
    "        }\n",
    "        }\n",
    "        found.foreach(println(_))\n",
    "        return found(s.length)\n",
    "    }\n",
    "}"
   ]
  },
  {
   "cell_type": "code",
   "execution_count": 2,
   "metadata": {
    "collapsed": false
   },
   "outputs": [
    {
     "name": "stdout",
     "output_type": "stream",
     "text": [
      "(for loop,1)\n",
      "(substring,l)\n",
      "(substring,l)\n",
      "(for loop,2)\n",
      "(for loop,3)\n",
      "(substring,lee)\n",
      "lee\n",
      "(for loop,4)\n",
      "(substring,c)\n",
      "(substring,c)\n",
      "(substring,leec)\n",
      "(for loop,5)\n",
      "(for loop,6)\n",
      "(substring,cod)\n",
      "(for loop,7)\n",
      "(substring,code)\n",
      "code\n",
      "true\n",
      "false\n",
      "false\n",
      "true\n",
      "false\n",
      "false\n",
      "false\n",
      "true\n"
     ]
    },
    {
     "data": {
      "text/plain": [
       "\u001b[36mres1\u001b[0m: \u001b[32mBoolean\u001b[0m = \u001b[32mtrue\u001b[0m"
      ]
     },
     "metadata": {},
     "output_type": "display_data"
    }
   ],
   "source": [
    "Solution.wordBreak(\"leecode\",Array(\"a\",\"e\",\"lee\",\"code\"))"
   ]
  },
  {
   "cell_type": "markdown",
   "metadata": {
    "collapsed": true
   },
   "source": [
    "# 464. Can I Win\n",
    "\n",
    "In the \"100 game,\" two players take turns adding, to a running total, any integer from 1..10. The player who first causes the running total to reach or exceed 100 wins.\n",
    "\n",
    "What if we change the game so that players cannot re-use integers?\n",
    "\n",
    "For example, two players might take turns drawing from a common pool of numbers of 1..15 without replacement until they reach a total >= 100.\n",
    "\n",
    "Given an integer maxChoosableInteger and another integer desiredTotal, determine if the first player to move can force a win, assuming both players play optimally.\n",
    "\n",
    "You can always assume that maxChoosableInteger will not be larger than 20 and desiredTotal will not be larger than 300.\n",
    "Input:\n",
    "maxChoosableInteger = 10\n",
    "desiredTotal = 11\n",
    "\n",
    "Output:\n",
    "false\n",
    "\n",
    "Explanation:\n",
    "No matter which integer the first player choose, the first player will lose.\n",
    "The first player can choose an integer from 1 up to 10.\n",
    "If the first player choose 1, the second player can only choose integers from 2 up to 10.\n",
    "The second player will win by choosing 10 and get a total = 11, which is >= desiredTotal.\n",
    "Same with other integers chosen by the first player, the second player will always win."
   ]
  },
  {
   "cell_type": "code",
   "execution_count": 12,
   "metadata": {
    "collapsed": false
   },
   "outputs": [
    {
     "data": {
      "text/plain": [
       "defined \u001b[32mobject \u001b[36mSolution\u001b[0m"
      ]
     },
     "metadata": {},
     "output_type": "display_data"
    }
   ],
   "source": [
    "object Solution {\n",
    "    var used = Array[Boolean]()\n",
    "    var map = scala.collection.mutable.Map[Int, Boolean]()\n",
    "    def canIWin(maxChoosableInteger: Int, desiredTotal: Int): Boolean = {\n",
    "       val sum = (maxChoosableInteger+1)*maxChoosableInteger/2\n",
    "       if(sum < desiredTotal) return false;\n",
    "       if(desiredTotal <= 0 ) return true;\n",
    "       used = Array.fill(maxChoosableInteger + 1){false}\n",
    "       map = scala.collection.mutable.Map[Int, Boolean]()\n",
    "       return helper(desiredTotal) \n",
    "    }\n",
    "    \n",
    "    def helper(desiredTotal:Int):Boolean = {\n",
    "       if(desiredTotal<=0) return false\n",
    "       val key:Int = format(used)\n",
    "       if(!map.contains(key)){\n",
    "       for(i <- 1 to used.length-1){\n",
    "            if(!used(i)){\n",
    "               //println(\"trying \",i)\n",
    "               used(i) = true\n",
    "               if(!helper(desiredTotal - i)){//can other win\n",
    "                  map += (key-> true)\n",
    "                  used(i) = false\n",
    "                  return true\n",
    "               }\n",
    "               used(i) = false\n",
    "            }\n",
    "            map += (key-> false)\n",
    "        }\n",
    "        }\n",
    "        return map.get(key).get\n",
    "    }\n",
    "    \n",
    "    \n",
    "    def format(used: Array[Boolean]): Int = {\n",
    "       var num:Int = 0;\n",
    "       for(i<-used){\n",
    "          num = num << 1;\n",
    "          if(i) num = num | 1;\n",
    "       }\n",
    "       return num;\n",
    "    \n",
    "    }\n",
    "}"
   ]
  },
  {
   "cell_type": "code",
   "execution_count": 13,
   "metadata": {
    "collapsed": false
   },
   "outputs": [
    {
     "data": {
      "text/plain": [
       "\u001b[36mres12\u001b[0m: \u001b[32mBoolean\u001b[0m = \u001b[32mfalse\u001b[0m"
      ]
     },
     "metadata": {},
     "output_type": "display_data"
    }
   ],
   "source": [
    "Solution.canIWin(10,11)"
   ]
  },
  {
   "cell_type": "code",
   "execution_count": 14,
   "metadata": {
    "collapsed": false
   },
   "outputs": [
    {
     "data": {
      "text/plain": [
       "\u001b[36mres13\u001b[0m: \u001b[32mBoolean\u001b[0m = \u001b[32mtrue\u001b[0m"
      ]
     },
     "metadata": {},
     "output_type": "display_data"
    }
   ],
   "source": [
    "Solution.canIWin(3,5)"
   ]
  },
  {
   "cell_type": "markdown",
   "metadata": {},
   "source": [
    "# 303. Range Sum Query - Immutable\n",
    "Given nums = [-2, 0, 3, -5, 2, -1]\n",
    "\n",
    "sumRange(0, 2) -> 1\n",
    "sumRange(2, 5) -> -1\n",
    "sumRange(0, 5) -> -3"
   ]
  },
  {
   "cell_type": "code",
   "execution_count": 62,
   "metadata": {
    "collapsed": false
   },
   "outputs": [
    {
     "data": {
      "text/plain": [
       "defined \u001b[32mclass \u001b[36mNumArray\u001b[0m"
      ]
     },
     "metadata": {},
     "output_type": "display_data"
    }
   ],
   "source": [
    "class NumArray(val _nums: Array[Int]) {\n",
    "    def sumRange(i:Int, j:Int) : Int = {\n",
    "        if(i==0&&j==0||i<0||j>=_nums.length) return 0\n",
    "        if(i==j){\n",
    "         return _nums(j)}\n",
    "        if(i+1<=j){\n",
    "         return _nums(i) + sumRange(i+1, j)    \n",
    "        }\n",
    "        return 0\n",
    "    }\n",
    "}\n",
    "\n",
    "/**\n",
    " * Your NumArray object will be instantiated and called as such:\n",
    " * var obj = new NumArray(nums);\n",
    " * Int param_1 = obj.sumRange(i,j);\n",
    " */"
   ]
  },
  {
   "cell_type": "code",
   "execution_count": 63,
   "metadata": {
    "collapsed": false
   },
   "outputs": [
    {
     "data": {
      "text/plain": [
       "\u001b[36mobj\u001b[0m: \u001b[32mNumArray\u001b[0m = cmd61$$user$NumArray@7a4d4ee1"
      ]
     },
     "metadata": {},
     "output_type": "display_data"
    }
   ],
   "source": [
    "var obj = new NumArray(Array(-2,0,3,-5,2,-1))"
   ]
  },
  {
   "cell_type": "code",
   "execution_count": 64,
   "metadata": {
    "collapsed": false
   },
   "outputs": [
    {
     "data": {
      "text/plain": [
       "\u001b[36mres63\u001b[0m: \u001b[32mInt\u001b[0m = \u001b[32m-3\u001b[0m"
      ]
     },
     "metadata": {},
     "output_type": "display_data"
    }
   ],
   "source": [
    "obj.sumRange(0,5)"
   ]
  },
  {
   "cell_type": "code",
   "execution_count": 65,
   "metadata": {
    "collapsed": false
   },
   "outputs": [
    {
     "data": {
      "text/plain": [
       "\u001b[36mres64\u001b[0m: \u001b[32mInt\u001b[0m = \u001b[32m1\u001b[0m"
      ]
     },
     "metadata": {},
     "output_type": "display_data"
    }
   ],
   "source": [
    "obj.sumRange(0,2)"
   ]
  },
  {
   "cell_type": "code",
   "execution_count": 66,
   "metadata": {
    "collapsed": false
   },
   "outputs": [
    {
     "data": {
      "text/plain": [
       "\u001b[36mres65\u001b[0m: \u001b[32mInt\u001b[0m = \u001b[32m-2\u001b[0m"
      ]
     },
     "metadata": {},
     "output_type": "display_data"
    }
   ],
   "source": [
    "obj.sumRange(2,3)"
   ]
  },
  {
   "cell_type": "code",
   "execution_count": 67,
   "metadata": {
    "collapsed": false
   },
   "outputs": [
    {
     "data": {
      "text/plain": [
       "\u001b[36mres66\u001b[0m: \u001b[32mInt\u001b[0m = \u001b[32m-3\u001b[0m"
      ]
     },
     "metadata": {},
     "output_type": "display_data"
    }
   ],
   "source": [
    "obj.sumRange(0,5)"
   ]
  },
  {
   "cell_type": "markdown",
   "metadata": {},
   "source": [
    "# 651. 4 Keys Keyboard"
   ]
  },
  {
   "cell_type": "code",
   "execution_count": 8,
   "metadata": {
    "collapsed": false
   },
   "outputs": [
    {
     "data": {
      "text/plain": [
       "defined \u001b[32mfunction \u001b[36mmaxA\u001b[0m"
      ]
     },
     "metadata": {},
     "output_type": "display_data"
    }
   ],
   "source": [
    "def maxA(n: Int):Int={\n",
    "    var dp = Array.fill(n+1){0}\n",
    "    for(i <- 1 to n){\n",
    "       dp(i) = i;\n",
    "       for(j<-3 to i){\n",
    "          dp(i) = Math.max(dp(i), dp(i-j)*(j-1))\n",
    "           if(i==n)println(dp(i))\n",
    "       }\n",
    "    }\n",
    "    return dp(n)\n",
    "}"
   ]
  },
  {
   "cell_type": "code",
   "execution_count": 9,
   "metadata": {
    "collapsed": false
   },
   "outputs": [
    {
     "data": {
      "text/plain": [
       "\u001b[36mres8\u001b[0m: \u001b[32mInt\u001b[0m = \u001b[32m5\u001b[0m"
      ]
     },
     "metadata": {},
     "output_type": "display_data"
    }
   ],
   "source": [
    "maxA(5)"
   ]
  },
  {
   "cell_type": "code",
   "execution_count": 10,
   "metadata": {
    "collapsed": false
   },
   "outputs": [
    {
     "name": "stdout",
     "output_type": "stream",
     "text": [
      "8\n",
      "9\n",
      "9\n",
      "9\n",
      "9\n"
     ]
    },
    {
     "data": {
      "text/plain": [
       "\u001b[36mres9\u001b[0m: \u001b[32mInt\u001b[0m = \u001b[32m9\u001b[0m"
      ]
     },
     "metadata": {},
     "output_type": "display_data"
    }
   ],
   "source": [
    "maxA(7)"
   ]
  },
  {
   "cell_type": "code",
   "execution_count": 11,
   "metadata": {
    "collapsed": false
   },
   "outputs": [
    {
     "name": "stdout",
     "output_type": "stream",
     "text": [
      "10\n",
      "12\n",
      "12\n",
      "12\n",
      "12\n",
      "12\n"
     ]
    },
    {
     "data": {
      "text/plain": [
       "\u001b[36mres10\u001b[0m: \u001b[32mInt\u001b[0m = \u001b[32m12\u001b[0m"
      ]
     },
     "metadata": {},
     "output_type": "display_data"
    }
   ],
   "source": [
    "maxA(8)"
   ]
  },
  {
   "cell_type": "markdown",
   "metadata": {},
   "source": [
    "# 2 Keys Keyboard\n",
    "Initially on a notepad only one character 'A' is present. You can perform two operations on this notepad for each step:\n",
    "\n",
    "Copy All: You can copy all the characters present on the notepad (partial copy is not allowed).\n",
    "Paste: You can paste the characters which are copied last time.\n",
    "Given a number n. You have to get exactly n 'A' on the notepad by performing the minimum number of steps permitted. Output the minimum number of steps to get n 'A'.\n",
    "\n",
    "Example 1:\n",
    "Input: 3\n",
    "Output: 3\n",
    "Explanation:\n",
    "Intitally, we have one character 'A'.\n",
    "In step 1, we use Copy All operation.\n",
    "In step 2, we use Paste operation to get 'AA'.\n",
    "In step 3, we use Paste operation to get 'AAA'."
   ]
  },
  {
   "cell_type": "code",
   "execution_count": 17,
   "metadata": {
    "collapsed": false
   },
   "outputs": [
    {
     "data": {
      "text/plain": [
       "defined \u001b[32mfunction \u001b[36mmax2A\u001b[0m"
      ]
     },
     "metadata": {},
     "output_type": "display_data"
    }
   ],
   "source": [
    "  def max2A(n: Int):Int={\n",
    "      var dp = Array.fill(n+1){0}\n",
    "      for(i <- 1 to n){\n",
    "         dp(i) = i;\n",
    "         for(j<-2 to i){\n",
    "            if(i==n)println(dp(i))\n",
    "            dp(i) = Math.max(dp(i), dp(i-j)*(j))\n",
    "         }\n",
    "      }\n",
    "    return dp(n)}"
   ]
  },
  {
   "cell_type": "code",
   "execution_count": 1,
   "metadata": {
    "collapsed": false
   },
   "outputs": [
    {
     "data": {
      "text/plain": [
       "defined \u001b[32mobject \u001b[36mSolution\u001b[0m"
      ]
     },
     "metadata": {},
     "output_type": "display_data"
    }
   ],
   "source": [
    "object Solution {\n",
    "    def minSteps(n: Int): Int = {\n",
    "        var _n = n\n",
    "        var res = 0 \n",
    "        for(i<-2 to _n){\n",
    "          while(_n%i==0){\n",
    "           res += i;\n",
    "           _n = _n/i\n",
    "          }\n",
    "        }\n",
    "        return res\n",
    "    }\n",
    "}"
   ]
  },
  {
   "cell_type": "code",
   "execution_count": 36,
   "metadata": {
    "collapsed": false
   },
   "outputs": [
    {
     "name": "stdout",
     "output_type": "stream",
     "text": [
      "7\n",
      "12\n",
      "12\n",
      "12\n",
      "12\n",
      "12\n"
     ]
    },
    {
     "data": {
      "text/plain": [
       "\u001b[36mres35\u001b[0m: \u001b[32mInt\u001b[0m = \u001b[32m12\u001b[0m"
      ]
     },
     "metadata": {},
     "output_type": "display_data"
    }
   ],
   "source": [
    "max2A(7)"
   ]
  },
  {
   "cell_type": "code",
   "execution_count": 2,
   "metadata": {
    "collapsed": false
   },
   "outputs": [
    {
     "data": {
      "text/plain": [
       "\u001b[36mres1\u001b[0m: \u001b[32mInt\u001b[0m = \u001b[32m2\u001b[0m"
      ]
     },
     "metadata": {},
     "output_type": "display_data"
    }
   ],
   "source": [
    "Solution.minSteps(1)"
   ]
  },
  {
   "cell_type": "code",
   "execution_count": 37,
   "metadata": {
    "collapsed": false
   },
   "outputs": [
    {
     "data": {
      "text/plain": [
       "\u001b[36mres36\u001b[0m: \u001b[32mInt\u001b[0m = \u001b[32m3\u001b[0m"
      ]
     },
     "metadata": {},
     "output_type": "display_data"
    }
   ],
   "source": [
    "Solution.minSteps(3)"
   ]
  },
  {
   "cell_type": "code",
   "execution_count": 38,
   "metadata": {
    "collapsed": false
   },
   "outputs": [
    {
     "data": {
      "text/plain": [
       "\u001b[36mres37\u001b[0m: \u001b[32mInt\u001b[0m = \u001b[32m6\u001b[0m"
      ]
     },
     "metadata": {},
     "output_type": "display_data"
    }
   ],
   "source": [
    "Solution.minSteps(9)"
   ]
  },
  {
   "cell_type": "code",
   "execution_count": 39,
   "metadata": {
    "collapsed": false
   },
   "outputs": [
    {
     "data": {
      "text/plain": [
       "\u001b[36mres38\u001b[0m: \u001b[32mInt\u001b[0m = \u001b[32m4\u001b[0m"
      ]
     },
     "metadata": {},
     "output_type": "display_data"
    }
   ],
   "source": [
    "Solution.minSteps(4)"
   ]
  },
  {
   "cell_type": "code",
   "execution_count": 40,
   "metadata": {
    "collapsed": false
   },
   "outputs": [
    {
     "data": {
      "text/plain": [
       "\u001b[36mres39\u001b[0m: \u001b[32mInt\u001b[0m = \u001b[32m7\u001b[0m"
      ]
     },
     "metadata": {},
     "output_type": "display_data"
    }
   ],
   "source": [
    "Solution.minSteps(7)"
   ]
  },
  {
   "cell_type": "code",
   "execution_count": 41,
   "metadata": {
    "collapsed": false
   },
   "outputs": [
    {
     "data": {
      "text/plain": [
       "\u001b[36mres40\u001b[0m: \u001b[32mInt\u001b[0m = \u001b[32m8\u001b[0m"
      ]
     },
     "metadata": {},
     "output_type": "display_data"
    }
   ],
   "source": [
    "Solution.minSteps(18)"
   ]
  },
  {
   "cell_type": "markdown",
   "metadata": {
    "collapsed": true
   },
   "source": [
    "#  502. IPO\n",
    "Suppose LeetCode will start its IPO soon. In order to sell a good price of its shares to Venture Capital, LeetCode would like to work on some projects to increase its capital before the IPO. Since it has limited resources, it can only finish at most k distinct projects before the IPO. Help LeetCode design the best way to maximize its total capital after finishing at most k distinct projects.\n",
    "\n",
    "You are given several projects. For each project i, it has a pure profit Pi and a minimum capital of Ci is needed to start the corresponding project. Initially, you have W capital. When you finish a project, you will obtain its pure profit and the profit will be added to your total capital.\n",
    "\n",
    "To sum up, pick a list of at most k distinct projects from given projects to maximize your final capital, and output your final maximized capital.\n",
    "\n",
    "Example 1:\n",
    "Input: k=2, W=0, Profits=[1,2,3], Capital=[0,1,1].\n",
    "\n",
    "Output: 4\n",
    "\n",
    "Explanation: Since your initial capital is 0, you can only start the project indexed 0.\n",
    "             After finishing it you will obtain profit 1 and your capital becomes 1.\n",
    "             With capital 1, you can either start the project indexed 1 or the project indexed 2.\n",
    "             Since you can choose at most 2 projects, you need to finish the project indexed 2 to get the maximum capital.\n",
    "             Therefore, output the final maximized capital, which is 0 + 1 + 3 = 4."
   ]
  },
  {
   "cell_type": "code",
   "execution_count": 82,
   "metadata": {
    "collapsed": false
   },
   "outputs": [
    {
     "data": {
      "text/plain": [
       "defined \u001b[32mobject \u001b[36mSolution\u001b[0m"
      ]
     },
     "metadata": {},
     "output_type": "display_data"
    }
   ],
   "source": [
    "object Solution {\n",
    "   def findMaximizedCapital(k: Int, W: Int, Profits: Array[Int], Capital: Array[Int]): Int = {\n",
    "        var projects = Array.fill(Profits.length){true}\n",
    "        var dp = Array.fill(k+1){0}\n",
    "        var output = W\n",
    "        var _p = 0\n",
    "        for (i<- 1 to k){\n",
    "           for(p <- 0 to projects.length-1){\n",
    "             if(projects(p)&& Capital(p)<=output&&Profits(p)>dp(i)){\n",
    "               dp(i) = Profits(p)\n",
    "               _p = p\n",
    "             }\n",
    "           }\n",
    "            projects(_p) = false\n",
    "           output += dp(i)\n",
    "        }\n",
    "        return output\n",
    "    } \n",
    "}"
   ]
  },
  {
   "cell_type": "code",
   "execution_count": 83,
   "metadata": {
    "collapsed": false
   },
   "outputs": [
    {
     "data": {
      "text/plain": [
       "\u001b[36mres82\u001b[0m: \u001b[32mInt\u001b[0m = \u001b[32m4\u001b[0m"
      ]
     },
     "metadata": {},
     "output_type": "display_data"
    }
   ],
   "source": [
    "Solution.findMaximizedCapital(2,0,Array(1,2,3),Array(0,1,1))"
   ]
  },
  {
   "cell_type": "markdown",
   "metadata": {
    "collapsed": true
   },
   "source": [
    "# Max Consecutive integer array sum\n",
    "事实上，当我们令currSum为当前最大子数组的和，maxSum为最后要返回的最大子数组的和，当我们往后扫描时，\n",
    "\n",
    "对第j+1个元素有两种选择：要么放入前面找到的子数组，要么做为新子数组的第一个元素；\n",
    "如果currSum加上当前元素a[j]后不小于a[j]，则令currSum加上a[j]，否则currSum重新赋值，置为下一个元素，即currSum = a[j]。\n",
    "同时，当currSum > maxSum，则更新maxSum = currSum，否则保持原值，不更新。\n",
    "即\n",
    "\n",
    "currSum = max(a[j], currSum + a[j])\n",
    "maxSum = max(maxSum, currSum)\n",
    "举个例子，当输入数组是1, -2, 3, 10, -4, 7, 2, -5，那么，currSum和maxSum相应的变化为：\n",
    "\n",
    "currSum： 0 1 - 1 3 13 9 16 18 13\n",
    "maxSum ： 0 1 1 3 13 13 16 18 18\n",
    "输入一个整形数组，数组里有正数也有负数。数组中连续的一个或多个整数组成一个子数组，每个子数组都有一个和。 求所有子数组的和的最大值，要求时间复杂度为O(n)。\n",
    "\n",
    "例如输入的数组为1, -2, 3, 10, -4, 7, 2, -5，和最大的子数组为3, 10, -4, 7, 2， 因此输出为该子数组的和18。"
   ]
  },
  {
   "cell_type": "code",
   "execution_count": 2,
   "metadata": {
    "collapsed": false
   },
   "outputs": [
    {
     "data": {
      "text/plain": [
       "defined \u001b[32mobject \u001b[36mSolution\u001b[0m"
      ]
     },
     "metadata": {},
     "output_type": "display_data"
    }
   ],
   "source": [
    "// complexity O(N)\n",
    "object Solution{ \n",
    "   def maxSubSum(nums: Array[Int]) : Int = {\n",
    "      var currSum = 0\n",
    "      var maxSum = 0\n",
    "      for(i<- nums){\n",
    "        currSum = Math.max(i, currSum+i)\n",
    "        maxSum = Math.max(maxSum, currSum)\n",
    "      }\n",
    "      return maxSum\n",
    "   }\n",
    "}"
   ]
  },
  {
   "cell_type": "code",
   "execution_count": 3,
   "metadata": {
    "collapsed": false
   },
   "outputs": [
    {
     "data": {
      "text/plain": [
       "\u001b[36mres2\u001b[0m: \u001b[32mInt\u001b[0m = \u001b[32m18\u001b[0m"
      ]
     },
     "metadata": {},
     "output_type": "display_data"
    }
   ],
   "source": [
    "Solution.maxSubSum(Array(1, -2, 3, 10, -4, 7, 2, -5))"
   ]
  },
  {
   "cell_type": "markdown",
   "metadata": {},
   "source": [
    "#  给定整型数组，其中每个元素表示木板的高度，木板的宽度都相同，求这些木板拼出的最大矩形的面积。并分析时间复杂度。\n",
    "\n",
    "此题类似leetcode里面关于连通器的题，需要明确的是高度可能为0，长度最长的矩形并不一定是最大矩形，还需要考虑高度很高，但长度较短的矩形。如[5,4,3,2,4,5,0,7,8,4,6]中最大矩形的高度是[7,8,4,6]组成的矩形，面积为16。"
   ]
  },
  {
   "cell_type": "code",
   "execution_count": 32,
   "metadata": {
    "collapsed": false
   },
   "outputs": [
    {
     "data": {
      "text/plain": [
       "defined \u001b[32mobject \u001b[36mSolution\u001b[0m"
      ]
     },
     "metadata": {},
     "output_type": "display_data"
    }
   ],
   "source": [
    "object Solution{\n",
    "  def maxArea(nums:Array[Int]): Int = {     \n",
    "     var height = nums(0)\n",
    "     var maxArea = 0\n",
    "     for(i<- 0 to nums.length-2){\n",
    "      for(j<- i+1 to nums.length-1){\n",
    "       height = Math.min(height, nums(j))\n",
    "       maxArea = Math.max(maxArea, height*(j-i))\n",
    "      }\n",
    "      height = nums(i)\n",
    "     }\n",
    "     return maxArea\n",
    "  }\n",
    "}"
   ]
  },
  {
   "cell_type": "code",
   "execution_count": 33,
   "metadata": {
    "collapsed": false
   },
   "outputs": [
    {
     "data": {
      "text/plain": [
       "\u001b[36mres32\u001b[0m: \u001b[32mInt\u001b[0m = \u001b[32m16\u001b[0m"
      ]
     },
     "metadata": {},
     "output_type": "display_data"
    }
   ],
   "source": [
    "Solution.maxArea(Array(5,4,3,2,4,5,0,7,8,4,6))"
   ]
  },
  {
   "cell_type": "markdown",
   "metadata": {},
   "source": [
    "# 200. Number of Islands\n",
    "Given a 2d grid map of '1's (land) and '0's (water), count the number of islands. An island is surrounded by water and is formed by connecting adjacent lands horizontally or vertically. You may assume all four edges of the grid are all surrounded by water.\n",
    "\n",
    "Example 1:\n",
    "\n",
    "11110\n",
    "11010\n",
    "11000\n",
    "00000\n",
    "Answer: 1\n",
    "\n",
    "Example 2:\n",
    "\n",
    "11000\n",
    "11000\n",
    "00100\n",
    "00011\n",
    "Answer: 3"
   ]
  },
  {
   "cell_type": "code",
   "execution_count": 52,
   "metadata": {
    "collapsed": false
   },
   "outputs": [
    {
     "data": {
      "text/plain": [
       "defined \u001b[32mobject \u001b[36mSolution\u001b[0m"
      ]
     },
     "metadata": {},
     "output_type": "display_data"
    }
   ],
   "source": [
    "// DFS\n",
    "\n",
    "object Solution {\n",
    "    var _grid = Array[Array[Char]]()\n",
    "    def numIslands(grid: Array[Array[Char]]): Int = {\n",
    "        _grid = grid\n",
    "        val n = grid.length\n",
    "        val m = grid(0).length\n",
    "        var count = 0\n",
    "        if(n==0||m==0) return 0\n",
    "        \n",
    "        for(i <- 0 to n-1){\n",
    "          for(j <- 0 to m-1){\n",
    "            if(_grid(i)(j)== '0'){}\n",
    "            else{\n",
    "              println(i,j)\n",
    "              count += 1\n",
    "              dfs(i,j,n,m)\n",
    "            }\n",
    "          }\n",
    "        }\n",
    "        return count\n",
    "        \n",
    "    }\n",
    "    \n",
    "    def dfs(i:Int, j:Int, n:Int, m:Int):Unit = {\n",
    "       val directions = Array((1,0),(-1,0),(0,1),(0,-1))\n",
    "       _grid(i)(j) = '0'\n",
    "       \n",
    "       for(d <- directions){\n",
    "          val _i = i+d._1\n",
    "          val _j = j+d._2\n",
    "          if(_i<0||_i>=n||_j<0||_j>=m){}\n",
    "          else if(_grid(_i)(_j)== '0'){}\n",
    "          else{dfs(_i,_j,n,m)}\n",
    "       }\n",
    "    }\n",
    "}\n"
   ]
  },
  {
   "cell_type": "code",
   "execution_count": 53,
   "metadata": {
    "collapsed": false
   },
   "outputs": [
    {
     "data": {
      "text/plain": [
       "\u001b[36mmap\u001b[0m: \u001b[32mArray\u001b[0m[\u001b[32mArray\u001b[0m[\u001b[32mChar\u001b[0m]] = \u001b[33mArray\u001b[0m(\n",
       "  \u001b[33mArray\u001b[0m(\u001b[32m'1'\u001b[0m, \u001b[32m'1'\u001b[0m, \u001b[32m'1'\u001b[0m, \u001b[32m'1'\u001b[0m, \u001b[32m'0'\u001b[0m),\n",
       "  \u001b[33mArray\u001b[0m(\u001b[32m'1'\u001b[0m, \u001b[32m'1'\u001b[0m, \u001b[32m'0'\u001b[0m, \u001b[32m'1'\u001b[0m, \u001b[32m'0'\u001b[0m),\n",
       "  \u001b[33mArray\u001b[0m(\u001b[32m'1'\u001b[0m, \u001b[32m'1'\u001b[0m, \u001b[32m'0'\u001b[0m, \u001b[32m'0'\u001b[0m, \u001b[32m'0'\u001b[0m),\n",
       "  \u001b[33mArray\u001b[0m(\u001b[32m'0'\u001b[0m, \u001b[32m'0'\u001b[0m, \u001b[32m'0'\u001b[0m, \u001b[32m'0'\u001b[0m, \u001b[32m'0'\u001b[0m)\n",
       ")"
      ]
     },
     "metadata": {},
     "output_type": "display_data"
    }
   ],
   "source": [
    "val map = Array(Array('1','1','1','1','0'),Array('1','1','0','1','0'),Array('1','1','0','0','0'),Array('0','0','0','0','0'))"
   ]
  },
  {
   "cell_type": "code",
   "execution_count": 54,
   "metadata": {
    "collapsed": false
   },
   "outputs": [
    {
     "name": "stdout",
     "output_type": "stream",
     "text": [
      "(0,0)\n"
     ]
    },
    {
     "data": {
      "text/plain": [
       "\u001b[36mres53\u001b[0m: \u001b[32mInt\u001b[0m = \u001b[32m1\u001b[0m"
      ]
     },
     "metadata": {},
     "output_type": "display_data"
    }
   ],
   "source": [
    "Solution.numIslands(map)"
   ]
  },
  {
   "cell_type": "code",
   "execution_count": 55,
   "metadata": {
    "collapsed": false
   },
   "outputs": [
    {
     "data": {
      "text/plain": [
       "\u001b[36mmap1\u001b[0m: \u001b[32mArray\u001b[0m[\u001b[32mArray\u001b[0m[\u001b[32mChar\u001b[0m]] = \u001b[33mArray\u001b[0m(\n",
       "  \u001b[33mArray\u001b[0m(\u001b[32m'1'\u001b[0m, \u001b[32m'1'\u001b[0m, \u001b[32m'0'\u001b[0m, \u001b[32m'0'\u001b[0m, \u001b[32m'0'\u001b[0m),\n",
       "  \u001b[33mArray\u001b[0m(\u001b[32m'1'\u001b[0m, \u001b[32m'1'\u001b[0m, \u001b[32m'0'\u001b[0m, \u001b[32m'0'\u001b[0m, \u001b[32m'0'\u001b[0m),\n",
       "  \u001b[33mArray\u001b[0m(\u001b[32m'0'\u001b[0m, \u001b[32m'0'\u001b[0m, \u001b[32m'1'\u001b[0m, \u001b[32m'0'\u001b[0m, \u001b[32m'0'\u001b[0m),\n",
       "  \u001b[33mArray\u001b[0m(\u001b[32m'0'\u001b[0m, \u001b[32m'0'\u001b[0m, \u001b[32m'0'\u001b[0m, \u001b[32m'1'\u001b[0m, \u001b[32m'1'\u001b[0m)\n",
       ")"
      ]
     },
     "metadata": {},
     "output_type": "display_data"
    }
   ],
   "source": [
    "val map1 = Array(Array('1','1','0','0','0'),Array('1','1','0','0','0'),Array('0','0','1','0','0'),Array('0','0','0','1','1'))"
   ]
  },
  {
   "cell_type": "code",
   "execution_count": 56,
   "metadata": {
    "collapsed": false
   },
   "outputs": [
    {
     "name": "stdout",
     "output_type": "stream",
     "text": [
      "(0,0)\n",
      "(2,2)\n",
      "(3,3)\n"
     ]
    },
    {
     "data": {
      "text/plain": [
       "\u001b[36mres55\u001b[0m: \u001b[32mInt\u001b[0m = \u001b[32m3\u001b[0m"
      ]
     },
     "metadata": {},
     "output_type": "display_data"
    }
   ],
   "source": [
    "Solution.numIslands(map1)"
   ]
  },
  {
   "cell_type": "markdown",
   "metadata": {
    "collapsed": true
   },
   "source": [
    "# 86. Partition List\n",
    "\n",
    "Given a linked list and a value x, partition it such that all nodes less than x come before nodes greater than or equal to x.\n",
    "\n",
    "You should preserve the original relative order of the nodes in each of the two partitions.\n",
    "\n",
    "For example,\n",
    "Given 1->4->3->2->5->2 and x = 3,\n",
    "return 1->2->2->4->3->5."
   ]
  },
  {
   "cell_type": "code",
   "execution_count": 1,
   "metadata": {
    "collapsed": false
   },
   "outputs": [
    {
     "data": {
      "text/plain": [
       "defined \u001b[32mclass \u001b[36mListNode\u001b[0m"
      ]
     },
     "metadata": {},
     "output_type": "display_data"
    }
   ],
   "source": [
    "class ListNode(var _x: Int = 0) {\n",
    "   var next: ListNode = null\n",
    "   var x: Int = _x}"
   ]
  },
  {
   "cell_type": "code",
   "execution_count": 78,
   "metadata": {
    "collapsed": false
   },
   "outputs": [
    {
     "data": {
      "text/plain": [
       "defined \u001b[32mobject \u001b[36mSolution\u001b[0m"
      ]
     },
     "metadata": {},
     "output_type": "display_data"
    }
   ],
   "source": [
    "/**\n",
    " * Definition for singly-linked list.\n",
    " * class ListNode(var _x: Int = 0) {\n",
    " *   var next: ListNode = null\n",
    " *   var x: Int = _x\n",
    " * }\n",
    " */\n",
    "object Solution {\n",
    "    def partition(head: ListNode, x: Int): ListNode = {\n",
    "        var sm = new scala.collection.mutable.Queue[ListNode]\n",
    "        var lg = new scala.collection.mutable.Queue[ListNode]\n",
    "        var p = head\n",
    "        var _head = new ListNode(-1)\n",
    "        if(head == null) return head\n",
    "        \n",
    "        while(p!=null){\n",
    "          if (p.x>= x) lg+=p\n",
    "          else sm+=p\n",
    "          p = p.next\n",
    "        }\n",
    "        \n",
    "        if(sm.size>0){p = sm.dequeue; if(_head.x == -1) _head = p} \n",
    "        while(sm.size>0){\n",
    "          val n = sm.dequeue\n",
    "          p.next = n\n",
    "          p = p.next\n",
    "        }\n",
    "        println(_head.x, _head.next)\n",
    "        if(lg.size>0){val n = lg.dequeue; if(_head.x == -1){ _head = n}else{p.next = n; p = p.next} }\n",
    "        while(lg.size>0){\n",
    "          val n = lg.dequeue\n",
    "          p.next = n\n",
    "          p = p.next\n",
    "        }\n",
    "        p.next = null\n",
    "      \n",
    "     \n",
    "       return _head\n",
    "    }\n",
    "}"
   ]
  },
  {
   "cell_type": "code",
   "execution_count": 84,
   "metadata": {
    "collapsed": false
   },
   "outputs": [
    {
     "data": {
      "text/plain": [
       "\u001b[36mp1\u001b[0m: \u001b[32mListNode\u001b[0m = cmd0$$user$ListNode@44f16d7a\n",
       "\u001b[36mp2\u001b[0m: \u001b[32mListNode\u001b[0m = cmd0$$user$ListNode@7d537be9\n",
       "\u001b[36mp3\u001b[0m: \u001b[32mListNode\u001b[0m = cmd0$$user$ListNode@5b77034\n",
       "\u001b[36mp4\u001b[0m: \u001b[32mListNode\u001b[0m = cmd0$$user$ListNode@285c9385\n",
       "\u001b[36mp5\u001b[0m: \u001b[32mListNode\u001b[0m = cmd0$$user$ListNode@6cb30fee\n",
       "\u001b[36mp6\u001b[0m: \u001b[32mListNode\u001b[0m = cmd0$$user$ListNode@5aede6f0"
      ]
     },
     "metadata": {},
     "output_type": "display_data"
    }
   ],
   "source": [
    " //1->4->3->2->5->2\n",
    " var p1= new ListNode(1)\n",
    " var p2= new ListNode(4)\n",
    " p1.next = p2\n",
    " var p3= new ListNode(3)\n",
    " p2.next = p3\n",
    " var p4= new ListNode(2)\n",
    " p3.next = p4\n",
    " var p5= new ListNode(5)\n",
    " p4.next = p5\n",
    " var p6= new ListNode(2)\n",
    " p5.next = p6"
   ]
  },
  {
   "cell_type": "code",
   "execution_count": 85,
   "metadata": {
    "collapsed": false
   },
   "outputs": [
    {
     "data": {
      "text/plain": [
       "\u001b[36mres84\u001b[0m: \u001b[32mListNode\u001b[0m = cmd0$$user$ListNode@44f16d7a"
      ]
     },
     "metadata": {},
     "output_type": "display_data"
    }
   ],
   "source": [
    "Solution.partition(p1,3)"
   ]
  },
  {
   "cell_type": "code",
   "execution_count": 86,
   "metadata": {
    "collapsed": false
   },
   "outputs": [
    {
     "name": "stdout",
     "output_type": "stream",
     "text": [
      "1->2->2->4->3->5->"
     ]
    },
    {
     "ename": "",
     "evalue": "",
     "output_type": "error",
     "traceback": [
      "java.lang.NullPointerException",
      "  cmd85$$user$$anonfun$1$$anonfun$apply$mcV$sp$1.apply$mcVI$sp(Main.scala:31)",
      "  scala.collection.immutable.Range.foreach$mVc$sp(Range.scala:166)",
      "  cmd85$$user$$anonfun$1.apply$mcV$sp(Main.scala:30)"
     ]
    }
   ],
   "source": [
    "var p = res84\n",
    "for(i<- 0 to 10){\n",
    "  print(p.x+\"->\")\n",
    "  p = p.next\n",
    "}"
   ]
  },
  {
   "cell_type": "code",
   "execution_count": 87,
   "metadata": {
    "collapsed": false
   },
   "outputs": [
    {
     "data": {
      "text/plain": [
       "\u001b[36mp1\u001b[0m: \u001b[32mListNode\u001b[0m = cmd0$$user$ListNode@2d3b4ad8\n",
       "\u001b[36mp2\u001b[0m: \u001b[32mListNode\u001b[0m = cmd0$$user$ListNode@1862a035"
      ]
     },
     "metadata": {},
     "output_type": "display_data"
    }
   ],
   "source": [
    " var p1= new ListNode(2)\n",
    " var p2= new ListNode(1)\n",
    " p1.next = p2"
   ]
  },
  {
   "cell_type": "code",
   "execution_count": 88,
   "metadata": {
    "collapsed": false
   },
   "outputs": [
    {
     "data": {
      "text/plain": [
       "\u001b[36mres87\u001b[0m: \u001b[32mListNode\u001b[0m = cmd0$$user$ListNode@1862a035"
      ]
     },
     "metadata": {},
     "output_type": "display_data"
    }
   ],
   "source": [
    "Solution.partition(p1,2)"
   ]
  },
  {
   "cell_type": "code",
   "execution_count": 83,
   "metadata": {
    "collapsed": false
   },
   "outputs": [
    {
     "data": {
      "text/plain": [
       "defined \u001b[32mobject \u001b[36mSolution\u001b[0m"
      ]
     },
     "metadata": {},
     "output_type": "display_data"
    }
   ],
   "source": [
    "//simple one pass\n",
    "object Solution {\n",
    "    def partition(head: ListNode, x: Int): ListNode = {\n",
    "    var _head = head\n",
    "    val n1 = new ListNode(0)\n",
    "    val n2 = new ListNode(0)\n",
    "    var p1 = n1\n",
    "    var p2 = n2\n",
    "    while(_head!=null){\n",
    "       if(_head.x < x){\n",
    "         p1.next = _head\n",
    "         p1 = p1.next\n",
    "       }else{\n",
    "         p2.next = _head\n",
    "         p2 = p2.next\n",
    "       }\n",
    "       _head=_head.next\n",
    "    }\n",
    "    p1.next = n2.next\n",
    "    p2.next = null\n",
    "    \n",
    "    return n1.next\n",
    "    }\n",
    "}"
   ]
  },
  {
   "cell_type": "code",
   "execution_count": 89,
   "metadata": {
    "collapsed": false
   },
   "outputs": [
    {
     "name": "stdout",
     "output_type": "stream",
     "text": [
      "1->2->"
     ]
    },
    {
     "ename": "",
     "evalue": "",
     "output_type": "error",
     "traceback": [
      "java.lang.NullPointerException",
      "  cmd88$$user$$anonfun$1$$anonfun$apply$mcV$sp$1.apply$mcVI$sp(Main.scala:31)",
      "  scala.collection.immutable.Range.foreach$mVc$sp(Range.scala:166)",
      "  cmd88$$user$$anonfun$1.apply$mcV$sp(Main.scala:30)"
     ]
    }
   ],
   "source": [
    "var p = res87\n",
    "for(i<- 0 to 2){\n",
    "  print(p.x+\"->\")\n",
    "  p = p.next\n",
    "}"
   ]
  },
  {
   "cell_type": "markdown",
   "metadata": {},
   "source": [
    "# 279. Perfect Squares\n",
    "Given a positive integer n, find the least number of perfect square numbers (for example, 1, 4, 9, 16, ...) which sum to n.\n",
    "\n",
    "For example, given n = 12, return 3 because 12 = 4 + 4 + 4; given n = 13, return 2 because 13 = 4 + 9.\n",
    "\n",
    "dp[0] = 0 \n",
    "dp[1] = dp[0]+1 = 1\n",
    "dp[2] = dp[1]+1 = 2\n",
    "dp[3] = dp[2]+1 = 3\n",
    "dp[4] = Min{ dp[4-1*1]+1, dp[4-2*2]+1 } \n",
    "      = Min{ dp[3]+1, dp[0]+1 } \n",
    "      = 1\t\t\t\t\n",
    "dp[5] = Min{ dp[5-1*1]+1, dp[5-2*2]+1 } \n",
    "      = Min{ dp[4]+1, dp[1]+1 } \n",
    "      = 2\n",
    "\t\t\t\t\t\t.\n",
    "\t\t\t\t\t\t.\n",
    "\t\t\t\t\t\t.\n",
    "dp[13] = Min{ dp[13-1*1]+1, dp[13-2*2]+1, dp[13-3*3]+1 } \n",
    "       = Min{ dp[12]+1, dp[9]+1, dp[4]+1 } \n",
    "       = 2\n",
    "\t\t\t\t\t\t.\n",
    "\t\t\t\t\t\t.\n",
    "\t\t\t\t\t\t.\n",
    "dp[n] = Min{ dp[n - i*i] + 1 },  n - i*i >=0 && i >= 1"
   ]
  },
  {
   "cell_type": "code",
   "execution_count": 3,
   "metadata": {
    "collapsed": false
   },
   "outputs": [
    {
     "data": {
      "text/plain": [
       "defined \u001b[32mobject \u001b[36mSolution\u001b[0m"
      ]
     },
     "metadata": {},
     "output_type": "display_data"
    }
   ],
   "source": [
    "object Solution{\n",
    "  def numSquares(n: Int): Int = {\n",
    "        var dp = Array.fill(n+1){Integer.MAX_VALUE}\n",
    "        dp(0) = 0\n",
    "        \n",
    "        for(i<-1 to n){\n",
    "          var j = 1\n",
    "          while(i-j*j>=0){\n",
    "            dp(i) = Math.min(dp(i), dp(i-j*j)+1)\n",
    "            j+=1\n",
    "          }\n",
    "        }\n",
    "        \n",
    "        return dp(n)\n",
    "    } \n",
    "}"
   ]
  },
  {
   "cell_type": "code",
   "execution_count": 2,
   "metadata": {
    "collapsed": false
   },
   "outputs": [
    {
     "data": {
      "text/plain": [
       "\u001b[36mres1\u001b[0m: \u001b[32mInt\u001b[0m = \u001b[32m0\u001b[0m"
      ]
     },
     "metadata": {},
     "output_type": "display_data"
    }
   ],
   "source": [
    "Solution.numSquares(0)"
   ]
  },
  {
   "cell_type": "code",
   "execution_count": 3,
   "metadata": {
    "collapsed": false
   },
   "outputs": [
    {
     "data": {
      "text/plain": [
       "\u001b[36mres2\u001b[0m: \u001b[32mInt\u001b[0m = \u001b[32m1\u001b[0m"
      ]
     },
     "metadata": {},
     "output_type": "display_data"
    }
   ],
   "source": [
    "Solution.numSquares(1)"
   ]
  },
  {
   "cell_type": "code",
   "execution_count": 4,
   "metadata": {
    "collapsed": false
   },
   "outputs": [
    {
     "data": {
      "text/plain": [
       "\u001b[36mres3\u001b[0m: \u001b[32mInt\u001b[0m = \u001b[32m1\u001b[0m"
      ]
     },
     "metadata": {},
     "output_type": "display_data"
    }
   ],
   "source": [
    "Solution.numSquares(4)"
   ]
  },
  {
   "cell_type": "code",
   "execution_count": 5,
   "metadata": {
    "collapsed": false
   },
   "outputs": [
    {
     "data": {
      "text/plain": [
       "\u001b[36mres4\u001b[0m: \u001b[32mInt\u001b[0m = \u001b[32m2\u001b[0m"
      ]
     },
     "metadata": {},
     "output_type": "display_data"
    }
   ],
   "source": [
    "Solution.numSquares(13)"
   ]
  },
  {
   "cell_type": "code",
   "execution_count": 4,
   "metadata": {
    "collapsed": false
   },
   "outputs": [
    {
     "data": {
      "text/plain": [
       "\u001b[36mres3\u001b[0m: \u001b[32mInt\u001b[0m = \u001b[32m3\u001b[0m"
      ]
     },
     "metadata": {},
     "output_type": "display_data"
    }
   ],
   "source": [
    "Solution.numSquares(12)"
   ]
  },
  {
   "cell_type": "markdown",
   "metadata": {},
   "source": [
    "# 134. Gas Station\n",
    "There are N gas stations along a circular route, where the amount of gas at station i is gas[i].\n",
    "\n",
    "You have a car with an unlimited gas tank and it costs cost[i] of gas to travel from station i to its next station (i+1). You begin the journey with an empty tank at one of the gas stations.\n",
    "\n",
    "Return the starting gas station's index if you can travel around the circuit once, otherwise return -1.\n",
    "\n",
    "Note:\n",
    "The solution is guaranteed to be unique."
   ]
  },
  {
   "cell_type": "code",
   "execution_count": 49,
   "metadata": {
    "collapsed": false
   },
   "outputs": [
    {
     "data": {
      "text/plain": [
       "\u001b[32mimport \u001b[36mscala.util.control.Breaks._\u001b[0m\n",
       "defined \u001b[32mobject \u001b[36mSolution\u001b[0m"
      ]
     },
     "metadata": {},
     "output_type": "display_data"
    }
   ],
   "source": [
    "import scala.util.control.Breaks._\n",
    "object Solution {\n",
    "    def canCompleteCircuit(gas: Array[Int], cost: Array[Int]): Int = {\n",
    "        val n = gas.length\n",
    "        if(gas.length==0 || cost.length ==0) return -1\n",
    "        if(gas.length==1 && cost.length ==1){if (cost(0)>gas(0)) return -1 else return 0}\n",
    "        var dp = Array.fill(n+1){0}\n",
    "        for(i <-0 to n-1){\n",
    "          dp(i) = gas(i) - cost(i)\n",
    "        }\n",
    "        \n",
    "        var curr = 0\n",
    "        for(i<-0 to n-1){\n",
    "          if(dp(i)>0){\n",
    "           breakable {\n",
    "           for(j<-i to (i+n-1)){\n",
    "             curr += dp(j%n)\n",
    "             if(curr<0) break\n",
    "             else if((j-i) == (n-1)) return i\n",
    "           }}\n",
    "          }\n",
    "          curr = 0\n",
    "        }\n",
    "        \n",
    "        return -1\n",
    "    }\n",
    "}"
   ]
  },
  {
   "cell_type": "code",
   "execution_count": 51,
   "metadata": {
    "collapsed": false
   },
   "outputs": [
    {
     "data": {
      "text/plain": [
       "\u001b[36mres50\u001b[0m: \u001b[32mInt\u001b[0m = \u001b[32m1\u001b[0m"
      ]
     },
     "metadata": {},
     "output_type": "display_data"
    }
   ],
   "source": [
    "Solution.canCompleteCircuit(Array(1,2),Array(2,1))"
   ]
  },
  {
   "cell_type": "code",
   "execution_count": 52,
   "metadata": {
    "collapsed": false
   },
   "outputs": [
    {
     "data": {
      "text/plain": [
       "\u001b[36mres51\u001b[0m: \u001b[32mInt\u001b[0m = \u001b[32m1\u001b[0m"
      ]
     },
     "metadata": {},
     "output_type": "display_data"
    }
   ],
   "source": [
    "Solution.canCompleteCircuit(Array(1,2),Array(1,1))"
   ]
  },
  {
   "cell_type": "code",
   "execution_count": 53,
   "metadata": {
    "collapsed": false
   },
   "outputs": [
    {
     "data": {
      "text/plain": [
       "\u001b[36mres52\u001b[0m: \u001b[32mInt\u001b[0m = \u001b[32m3\u001b[0m"
      ]
     },
     "metadata": {},
     "output_type": "display_data"
    }
   ],
   "source": [
    "Solution.canCompleteCircuit(Array(1,2,3,3),Array(2,1,5,1))"
   ]
  },
  {
   "cell_type": "code",
   "execution_count": 60,
   "metadata": {
    "collapsed": false
   },
   "outputs": [
    {
     "data": {
      "text/plain": [
       "defined \u001b[32mobject \u001b[36mSolution\u001b[0m"
      ]
     },
     "metadata": {},
     "output_type": "display_data"
    }
   ],
   "source": [
    "object Solution{\n",
    "   def canCompleteCircuit(gas: Array[Int], cost: Array[Int]): Int = {\n",
    "    var total = 0 \n",
    "    var start = 0\n",
    "    var curr = 0\n",
    "    val n = gas.length - 1\n",
    "    \n",
    "    for(i<-0 to n){\n",
    "      curr += gas(i) - cost(i)\n",
    "      if(curr<0){\n",
    "        start = i + 1\n",
    "        total += curr\n",
    "        curr = 0\n",
    "      }\n",
    "    }\n",
    "    if(total+curr>=0) return start else return -1\n",
    "   }\n",
    "}"
   ]
  },
  {
   "cell_type": "code",
   "execution_count": 61,
   "metadata": {
    "collapsed": false
   },
   "outputs": [
    {
     "data": {
      "text/plain": [
       "\u001b[36mres60\u001b[0m: \u001b[32mInt\u001b[0m = \u001b[32m3\u001b[0m"
      ]
     },
     "metadata": {},
     "output_type": "display_data"
    }
   ],
   "source": [
    "Solution.canCompleteCircuit(Array(1,2,3,3),Array(2,1,5,1))"
   ]
  },
  {
   "cell_type": "markdown",
   "metadata": {
    "collapsed": true
   },
   "source": [
    "# You are given a farm land of size MxN as input. The land is divided into \"cells\" and each cell can be of the type:\n",
    "\n",
    "W -> filled with water, E -> Empty, # -> barrier\n",
    "\n",
    "Eg:\n",
    "E E E\n",
    "E # W\n",
    "E W E\n",
    "\n",
    "Scenario: After every 1 hour, an empty \"E\" cell, with a water filled \"W\" neighbor (up/down/left/right) cell, gets filled with water as well. Barriers remain barrier, they don't change.\n",
    "\n",
    "After hour #1:\n",
    "\n",
    "E E W\n",
    "E # W\n",
    "W W W\n",
    "\n",
    "After hour #2:\n",
    "\n",
    "E W W\n",
    "W # W\n",
    "W W W\n",
    "\n",
    "After hour #3:\n",
    "\n",
    "W W W\n",
    "W # W\n",
    "W W W\n",
    "\n",
    "Question: How many hours does it take to fill all \"fillable\" empty cells to get filled with water.\n",
    "Implement: int numberOfHours(char[][] mat) => returns 3 for example above"
   ]
  },
  {
   "cell_type": "code",
   "execution_count": 3,
   "metadata": {
    "collapsed": false
   },
   "outputs": [
    {
     "data": {
      "text/plain": [
       "defined \u001b[32mobject \u001b[36mSolution\u001b[0m"
      ]
     },
     "metadata": {},
     "output_type": "display_data"
    }
   ],
   "source": [
    "object Solution{\n",
    "  var _map =Array[Array[Char]]()\n",
    "  def numberOfHours(map: Array[Array[Char]]): Int = {\n",
    "     val n = map.length\n",
    "     val m = map(0).length\n",
    "     _map = map\n",
    "     var count = 0\n",
    "     while(haveEarth()){\n",
    "     count+=1\n",
    "     for(i<- 0 to n-1){\n",
    "       for(j<- 0 to m-1){\n",
    "          if(_map(i)(j) == 'W'){\n",
    "            dfs(i,j,n,m)\n",
    "          }\n",
    "       }\n",
    "     }}\n",
    "     return count\n",
    "  }\n",
    "  def haveEarth():Boolean = {\n",
    "    val n = _map.length\n",
    "    val m = _map(0).length\n",
    "    for(i<- 0 to n-1){\n",
    "         for(j<- 0 to m-1){\n",
    "            if(_map(i)(j) == 'E'){\n",
    "              return true\n",
    "            }\n",
    "         }\n",
    "\n",
    "    }\n",
    "    return false\n",
    "  }\n",
    "  \n",
    "  def dfs(i:Int, j:Int, n:Int, m:Int):Unit = {\n",
    "    val directions = Array((0,1),(0,-1),(1,0),(-1,0))\n",
    "    _map(i)(j) = '#'\n",
    "    for(d<- directions){\n",
    "       val i1 = i+d._1\n",
    "       val j1 = j+d._2\n",
    "       if(i1>n-1||j1>m-1||i1<0||j1<0){}\n",
    "       else if(_map(i1)(j1) == 'E'){\n",
    "           println(\"filled W\",i1,j1)\n",
    "          _map(i1)(j1) = 'W'}\n",
    "       else if(_map(i1)(j1) == 'W'){\n",
    "          dfs(i1,j1,n,m)}\n",
    "    }\n",
    "  }\n",
    "  \n",
    "\n",
    "}"
   ]
  },
  {
   "cell_type": "code",
   "execution_count": 4,
   "metadata": {
    "collapsed": false
   },
   "outputs": [
    {
     "name": "stdout",
     "output_type": "stream",
     "text": [
      "(filled W,2,2)\n",
      "(filled W,0,2)\n",
      "(filled W,2,0)\n",
      "(filled W,0,1)\n",
      "(filled W,1,0)\n",
      "(filled W,0,0)\n"
     ]
    },
    {
     "data": {
      "text/plain": [
       "\u001b[36mmap\u001b[0m: \u001b[32mArray\u001b[0m[\u001b[32mArray\u001b[0m[\u001b[32mChar\u001b[0m]] = \u001b[33mArray\u001b[0m(\u001b[33mArray\u001b[0m(\u001b[32m'#'\u001b[0m, \u001b[32m'#'\u001b[0m, \u001b[32m'#'\u001b[0m), \u001b[33mArray\u001b[0m(\u001b[32m'#'\u001b[0m, \u001b[32m'#'\u001b[0m, \u001b[32m'#'\u001b[0m), \u001b[33mArray\u001b[0m(\u001b[32m'#'\u001b[0m, \u001b[32m'#'\u001b[0m, \u001b[32m'#'\u001b[0m))\n",
       "\u001b[36mres3_1\u001b[0m: \u001b[32mInt\u001b[0m = \u001b[32m3\u001b[0m"
      ]
     },
     "metadata": {},
     "output_type": "display_data"
    }
   ],
   "source": [
    "val map = Array(Array('E','E','E'),Array('E','#','W'),Array('E','W','E'))\n",
    "Solution.numberOfHours(map)"
   ]
  },
  {
   "cell_type": "markdown",
   "metadata": {
    "collapsed": true
   },
   "source": [
    "# TinyUrl"
   ]
  },
  {
   "cell_type": "code",
   "execution_count": 6,
   "metadata": {
    "collapsed": false
   },
   "outputs": [
    {
     "data": {
      "text/plain": [
       "defined \u001b[32mobject \u001b[36mTinyUrl\u001b[0m"
      ]
     },
     "metadata": {},
     "output_type": "display_data"
    }
   ],
   "source": [
    "object TinyUrl{\n",
    "    var url2Code = Map[String, String]()  \n",
    "    var code2Url = Map[String, String]()  \n",
    "    val alphebeta = \"0123456789abcdefghABCDEFGH\".toArray\n",
    "    \n",
    "    def encode(longUrl : String): String = {\n",
    "        while(url2Code.get(longUrl)==None){\n",
    "          var code = \"\"\n",
    "          for(i<-1 to 6){\n",
    "             val index = (Math.random()*alphebeta.length).toInt\n",
    "             code += alphebeta(index)\n",
    "          }\n",
    "          if(code2Url.get(code)==None){\n",
    "             url2Code+= (longUrl->code)\n",
    "             code2Url+= (code-> longUrl)\n",
    "          }\n",
    "        }\n",
    "        return url2Code.get(longUrl).get\n",
    "    }\n",
    "    \n",
    "    def decode(shortUrl: String): String = {\n",
    "       if(code2Url.get(shortUrl)!=None)\n",
    "         return code2Url.get(shortUrl).get\n",
    "       else\n",
    "         return \"No exist\"\n",
    "    }\n",
    "}"
   ]
  },
  {
   "cell_type": "code",
   "execution_count": 7,
   "metadata": {
    "collapsed": false
   },
   "outputs": [
    {
     "data": {
      "text/plain": [
       "\u001b[36mres6\u001b[0m: \u001b[32mString\u001b[0m = \u001b[32m\"1H0gCg\"\u001b[0m"
      ]
     },
     "metadata": {},
     "output_type": "display_data"
    }
   ],
   "source": [
    "TinyUrl.encode(\"http://192.168.1.120:8888/notebooks/LeeCode%2C%20Backup%20remember.ipynb\")"
   ]
  },
  {
   "cell_type": "code",
   "execution_count": 8,
   "metadata": {
    "collapsed": false
   },
   "outputs": [
    {
     "data": {
      "text/plain": [
       "\u001b[36mres7\u001b[0m: \u001b[32mString\u001b[0m = \u001b[32m\"http://192.168.1.120:8888/notebooks/LeeCode%2C%20Backup%20remember.ipynb\"\u001b[0m"
      ]
     },
     "metadata": {},
     "output_type": "display_data"
    }
   ],
   "source": [
    "TinyUrl.decode(\"1H0gCg\")"
   ]
  },
  {
   "cell_type": "code",
   "execution_count": null,
   "metadata": {
    "collapsed": true
   },
   "outputs": [],
   "source": []
  }
 ],
 "metadata": {
  "kernelspec": {
   "display_name": "Scala 2.11",
   "language": "scala211",
   "name": "scala211"
  },
  "language_info": {
   "codemirror_mode": "text/x-scala",
   "file_extension": ".scala",
   "mimetype": "text/x-scala",
   "name": "scala211",
   "pygments_lexer": "scala",
   "version": "2.11.7"
  }
 },
 "nbformat": 4,
 "nbformat_minor": 1
}
