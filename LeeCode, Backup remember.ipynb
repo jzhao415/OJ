{
 "cells": [
  {
   "cell_type": "markdown",
   "metadata": {},
   "source": [
    "# Leecode Scala"
   ]
  },
  {
   "cell_type": "markdown",
   "metadata": {},
   "source": [
    "# 139  Word Break\n",
    "Given a non-empty string s and a dictionary wordDict containing a list of non-empty words, determine if s can be segmented into a space-separated sequence of one or more dictionary words. You may assume the dictionary does not contain duplicate words.\n",
    "\n",
    "For example, given\n",
    "s = \"leetcode\",\n",
    "dict = [\"leet\", \"code\"].\n",
    "\n",
    "Return true because \"leetcode\" can be segmented as \"leet code\".\n",
    "\n",
    "UPDATE (2017/1/4):\n",
    "The wordDict parameter had been changed to a list of strings (instead of a set of strings). Please reload the code definition to get the latest changes."
   ]
  },
  {
   "cell_type": "code",
   "execution_count": 1,
   "metadata": {
    "collapsed": false
   },
   "outputs": [
    {
     "data": {
      "text/plain": [
       "defined \u001b[32mobject \u001b[36mSolution\u001b[0m"
      ]
     },
     "metadata": {},
     "output_type": "display_data"
    }
   ],
   "source": [
    "object Solution {\n",
    "    def wordBreak(s: String, wordDict: Array[String]): Boolean = {\n",
    "        var found = Array.fill(s.length+1){false}\n",
    "        found(0) = true\n",
    "        for(i<- 1 to s.length){\n",
    "         println(\"for loop\", i)\n",
    "          for(word<-wordDict){\n",
    "             if(word.length<=i){\n",
    "                if(found(i-word.length)){\n",
    "                   println(\"substring\",s.substring(i-word.length, i))\n",
    "                   if(s.substring(i-word.length, i) == word){\n",
    "                     println(word)\n",
    "                     found(i) = true\n",
    "                     }\n",
    "                   \n",
    "                }\n",
    "            }\n",
    "        }\n",
    "        }\n",
    "        found.foreach(println(_))\n",
    "        return found(s.length)\n",
    "    }\n",
    "}"
   ]
  },
  {
   "cell_type": "code",
   "execution_count": 2,
   "metadata": {
    "collapsed": false
   },
   "outputs": [
    {
     "name": "stdout",
     "output_type": "stream",
     "text": [
      "(for loop,1)\n",
      "(substring,l)\n",
      "(substring,l)\n",
      "(for loop,2)\n",
      "(for loop,3)\n",
      "(substring,lee)\n",
      "lee\n",
      "(for loop,4)\n",
      "(substring,c)\n",
      "(substring,c)\n",
      "(substring,leec)\n",
      "(for loop,5)\n",
      "(for loop,6)\n",
      "(substring,cod)\n",
      "(for loop,7)\n",
      "(substring,code)\n",
      "code\n",
      "true\n",
      "false\n",
      "false\n",
      "true\n",
      "false\n",
      "false\n",
      "false\n",
      "true\n"
     ]
    },
    {
     "data": {
      "text/plain": [
       "\u001b[36mres1\u001b[0m: \u001b[32mBoolean\u001b[0m = \u001b[32mtrue\u001b[0m"
      ]
     },
     "metadata": {},
     "output_type": "display_data"
    }
   ],
   "source": [
    "Solution.wordBreak(\"leecode\",Array(\"a\",\"e\",\"lee\",\"code\"))"
   ]
  },
  {
   "cell_type": "markdown",
   "metadata": {
    "collapsed": true
   },
   "source": [
    "# 464. Can I Win\n",
    "\n",
    "In the \"100 game,\" two players take turns adding, to a running total, any integer from 1..10. The player who first causes the running total to reach or exceed 100 wins.\n",
    "\n",
    "What if we change the game so that players cannot re-use integers?\n",
    "\n",
    "For example, two players might take turns drawing from a common pool of numbers of 1..15 without replacement until they reach a total >= 100.\n",
    "\n",
    "Given an integer maxChoosableInteger and another integer desiredTotal, determine if the first player to move can force a win, assuming both players play optimally.\n",
    "\n",
    "You can always assume that maxChoosableInteger will not be larger than 20 and desiredTotal will not be larger than 300.\n",
    "Input:\n",
    "maxChoosableInteger = 10\n",
    "desiredTotal = 11\n",
    "\n",
    "Output:\n",
    "false\n",
    "\n",
    "Explanation:\n",
    "No matter which integer the first player choose, the first player will lose.\n",
    "The first player can choose an integer from 1 up to 10.\n",
    "If the first player choose 1, the second player can only choose integers from 2 up to 10.\n",
    "The second player will win by choosing 10 and get a total = 11, which is >= desiredTotal.\n",
    "Same with other integers chosen by the first player, the second player will always win."
   ]
  },
  {
   "cell_type": "code",
   "execution_count": 12,
   "metadata": {
    "collapsed": false
   },
   "outputs": [
    {
     "data": {
      "text/plain": [
       "defined \u001b[32mobject \u001b[36mSolution\u001b[0m"
      ]
     },
     "metadata": {},
     "output_type": "display_data"
    }
   ],
   "source": [
    "object Solution {\n",
    "    var used = Array[Boolean]()\n",
    "    var map = scala.collection.mutable.Map[Int, Boolean]()\n",
    "    def canIWin(maxChoosableInteger: Int, desiredTotal: Int): Boolean = {\n",
    "       val sum = (maxChoosableInteger+1)*maxChoosableInteger/2\n",
    "       if(sum < desiredTotal) return false;\n",
    "       if(desiredTotal <= 0 ) return true;\n",
    "       used = Array.fill(maxChoosableInteger + 1){false}\n",
    "       map = scala.collection.mutable.Map[Int, Boolean]()\n",
    "       return helper(desiredTotal) \n",
    "    }\n",
    "    \n",
    "    def helper(desiredTotal:Int):Boolean = {\n",
    "       if(desiredTotal<=0) return false\n",
    "       val key:Int = format(used)\n",
    "       if(!map.contains(key)){\n",
    "       for(i <- 1 to used.length-1){\n",
    "            if(!used(i)){\n",
    "               //println(\"trying \",i)\n",
    "               used(i) = true\n",
    "               if(!helper(desiredTotal - i)){//can other win\n",
    "                  map += (key-> true)\n",
    "                  used(i) = false\n",
    "                  return true\n",
    "               }\n",
    "               used(i) = false\n",
    "            }\n",
    "            map += (key-> false)\n",
    "        }\n",
    "        }\n",
    "        return map.get(key).get\n",
    "    }\n",
    "    \n",
    "    \n",
    "    def format(used: Array[Boolean]): Int = {\n",
    "       var num:Int = 0;\n",
    "       for(i<-used){\n",
    "          num = num << 1;\n",
    "          if(i) num = num | 1;\n",
    "       }\n",
    "       return num;\n",
    "    \n",
    "    }\n",
    "}"
   ]
  },
  {
   "cell_type": "code",
   "execution_count": 13,
   "metadata": {
    "collapsed": false
   },
   "outputs": [
    {
     "data": {
      "text/plain": [
       "\u001b[36mres12\u001b[0m: \u001b[32mBoolean\u001b[0m = \u001b[32mfalse\u001b[0m"
      ]
     },
     "metadata": {},
     "output_type": "display_data"
    }
   ],
   "source": [
    "Solution.canIWin(10,11)"
   ]
  },
  {
   "cell_type": "code",
   "execution_count": 14,
   "metadata": {
    "collapsed": false
   },
   "outputs": [
    {
     "data": {
      "text/plain": [
       "\u001b[36mres13\u001b[0m: \u001b[32mBoolean\u001b[0m = \u001b[32mtrue\u001b[0m"
      ]
     },
     "metadata": {},
     "output_type": "display_data"
    }
   ],
   "source": [
    "Solution.canIWin(3,5)"
   ]
  },
  {
   "cell_type": "markdown",
   "metadata": {},
   "source": [
    "# 303. Range Sum Query - Immutable\n",
    "Given nums = [-2, 0, 3, -5, 2, -1]\n",
    "\n",
    "sumRange(0, 2) -> 1\n",
    "sumRange(2, 5) -> -1\n",
    "sumRange(0, 5) -> -3"
   ]
  },
  {
   "cell_type": "code",
   "execution_count": 62,
   "metadata": {
    "collapsed": false
   },
   "outputs": [
    {
     "data": {
      "text/plain": [
       "defined \u001b[32mclass \u001b[36mNumArray\u001b[0m"
      ]
     },
     "metadata": {},
     "output_type": "display_data"
    }
   ],
   "source": [
    "class NumArray(val _nums: Array[Int]) {\n",
    "    def sumRange(i:Int, j:Int) : Int = {\n",
    "        if(i==0&&j==0||i<0||j>=_nums.length) return 0\n",
    "        if(i==j){\n",
    "         return _nums(j)}\n",
    "        if(i+1<=j){\n",
    "         return _nums(i) + sumRange(i+1, j)    \n",
    "        }\n",
    "        return 0\n",
    "    }\n",
    "}\n",
    "\n",
    "/**\n",
    " * Your NumArray object will be instantiated and called as such:\n",
    " * var obj = new NumArray(nums);\n",
    " * Int param_1 = obj.sumRange(i,j);\n",
    " */"
   ]
  },
  {
   "cell_type": "code",
   "execution_count": 63,
   "metadata": {
    "collapsed": false
   },
   "outputs": [
    {
     "data": {
      "text/plain": [
       "\u001b[36mobj\u001b[0m: \u001b[32mNumArray\u001b[0m = cmd61$$user$NumArray@7a4d4ee1"
      ]
     },
     "metadata": {},
     "output_type": "display_data"
    }
   ],
   "source": [
    "var obj = new NumArray(Array(-2,0,3,-5,2,-1))"
   ]
  },
  {
   "cell_type": "code",
   "execution_count": 64,
   "metadata": {
    "collapsed": false
   },
   "outputs": [
    {
     "data": {
      "text/plain": [
       "\u001b[36mres63\u001b[0m: \u001b[32mInt\u001b[0m = \u001b[32m-3\u001b[0m"
      ]
     },
     "metadata": {},
     "output_type": "display_data"
    }
   ],
   "source": [
    "obj.sumRange(0,5)"
   ]
  },
  {
   "cell_type": "code",
   "execution_count": 65,
   "metadata": {
    "collapsed": false
   },
   "outputs": [
    {
     "data": {
      "text/plain": [
       "\u001b[36mres64\u001b[0m: \u001b[32mInt\u001b[0m = \u001b[32m1\u001b[0m"
      ]
     },
     "metadata": {},
     "output_type": "display_data"
    }
   ],
   "source": [
    "obj.sumRange(0,2)"
   ]
  },
  {
   "cell_type": "code",
   "execution_count": 66,
   "metadata": {
    "collapsed": false
   },
   "outputs": [
    {
     "data": {
      "text/plain": [
       "\u001b[36mres65\u001b[0m: \u001b[32mInt\u001b[0m = \u001b[32m-2\u001b[0m"
      ]
     },
     "metadata": {},
     "output_type": "display_data"
    }
   ],
   "source": [
    "obj.sumRange(2,3)"
   ]
  },
  {
   "cell_type": "code",
   "execution_count": 67,
   "metadata": {
    "collapsed": false
   },
   "outputs": [
    {
     "data": {
      "text/plain": [
       "\u001b[36mres66\u001b[0m: \u001b[32mInt\u001b[0m = \u001b[32m-3\u001b[0m"
      ]
     },
     "metadata": {},
     "output_type": "display_data"
    }
   ],
   "source": [
    "obj.sumRange(0,5)"
   ]
  },
  {
   "cell_type": "markdown",
   "metadata": {},
   "source": [
    "# 651. 4 Keys Keyboard"
   ]
  },
  {
   "cell_type": "code",
   "execution_count": 67,
   "metadata": {
    "collapsed": false
   },
   "outputs": [
    {
     "ename": "",
     "evalue": "",
     "output_type": "error",
     "traceback": [
      "Failure(\"]\":2:29 ...\"+1];\\n     \")"
     ]
    }
   ],
   "source": []
  },
  {
   "cell_type": "code",
   "execution_count": 8,
   "metadata": {
    "collapsed": false
   },
   "outputs": [
    {
     "data": {
      "text/plain": [
       "defined \u001b[32mfunction \u001b[36mmaxA\u001b[0m"
      ]
     },
     "metadata": {},
     "output_type": "display_data"
    }
   ],
   "source": [
    "def maxA(n: Int):Int={\n",
    "    var dp = Array.fill(n+1){0}\n",
    "    for(i <- 1 to n){\n",
    "       dp(i) = i;\n",
    "       for(j<-3 to i){\n",
    "          dp(i) = Math.max(dp(i), dp(i-j)*(j-1))\n",
    "           if(i==n)println(dp(i))\n",
    "       }\n",
    "    }\n",
    "    return dp(n)\n",
    "}"
   ]
  },
  {
   "cell_type": "code",
   "execution_count": 9,
   "metadata": {
    "collapsed": false
   },
   "outputs": [
    {
     "data": {
      "text/plain": [
       "\u001b[36mres8\u001b[0m: \u001b[32mInt\u001b[0m = \u001b[32m5\u001b[0m"
      ]
     },
     "metadata": {},
     "output_type": "display_data"
    }
   ],
   "source": [
    "maxA(5)"
   ]
  },
  {
   "cell_type": "code",
   "execution_count": 10,
   "metadata": {
    "collapsed": false
   },
   "outputs": [
    {
     "name": "stdout",
     "output_type": "stream",
     "text": [
      "8\n",
      "9\n",
      "9\n",
      "9\n",
      "9\n"
     ]
    },
    {
     "data": {
      "text/plain": [
       "\u001b[36mres9\u001b[0m: \u001b[32mInt\u001b[0m = \u001b[32m9\u001b[0m"
      ]
     },
     "metadata": {},
     "output_type": "display_data"
    }
   ],
   "source": [
    "maxA(7)"
   ]
  },
  {
   "cell_type": "code",
   "execution_count": 11,
   "metadata": {
    "collapsed": false
   },
   "outputs": [
    {
     "name": "stdout",
     "output_type": "stream",
     "text": [
      "10\n",
      "12\n",
      "12\n",
      "12\n",
      "12\n",
      "12\n"
     ]
    },
    {
     "data": {
      "text/plain": [
       "\u001b[36mres10\u001b[0m: \u001b[32mInt\u001b[0m = \u001b[32m12\u001b[0m"
      ]
     },
     "metadata": {},
     "output_type": "display_data"
    }
   ],
   "source": [
    "maxA(8)"
   ]
  },
  {
   "cell_type": "markdown",
   "metadata": {},
   "source": [
    "# 2 Keys Keyboard\n",
    "Initially on a notepad only one character 'A' is present. You can perform two operations on this notepad for each step:\n",
    "\n",
    "Copy All: You can copy all the characters present on the notepad (partial copy is not allowed).\n",
    "Paste: You can paste the characters which are copied last time.\n",
    "Given a number n. You have to get exactly n 'A' on the notepad by performing the minimum number of steps permitted. Output the minimum number of steps to get n 'A'.\n",
    "\n",
    "Example 1:\n",
    "Input: 3\n",
    "Output: 3\n",
    "Explanation:\n",
    "Intitally, we have one character 'A'.\n",
    "In step 1, we use Copy All operation.\n",
    "In step 2, we use Paste operation to get 'AA'.\n",
    "In step 3, we use Paste operation to get 'AAA'."
   ]
  },
  {
   "cell_type": "code",
   "execution_count": 17,
   "metadata": {
    "collapsed": false
   },
   "outputs": [
    {
     "data": {
      "text/plain": [
       "defined \u001b[32mfunction \u001b[36mmax2A\u001b[0m"
      ]
     },
     "metadata": {},
     "output_type": "display_data"
    }
   ],
   "source": [
    "  def max2A(n: Int):Int={\n",
    "      var dp = Array.fill(n+1){0}\n",
    "      for(i <- 1 to n){\n",
    "         dp(i) = i;\n",
    "         for(j<-2 to i){\n",
    "            if(i==n)println(dp(i))\n",
    "            dp(i) = Math.max(dp(i), dp(i-j)*(j))\n",
    "           \n",
    "         }\n",
    "      }\n",
    "    return dp(n)}"
   ]
  },
  {
   "cell_type": "code",
   "execution_count": 35,
   "metadata": {
    "collapsed": false
   },
   "outputs": [
    {
     "data": {
      "text/plain": [
       "defined \u001b[32mobject \u001b[36mSolution\u001b[0m"
      ]
     },
     "metadata": {},
     "output_type": "display_data"
    }
   ],
   "source": [
    "object Solution {\n",
    "    def minSteps(n: Int): Int = {\n",
    "        var _n = n\n",
    "        var res = 0 \n",
    "        for(i<-2 to _n){\n",
    "          while(_n%i==0){\n",
    "           res += i;\n",
    "           _n = _n/i\n",
    "          }\n",
    "        }\n",
    "        return res\n",
    "    }\n",
    "}"
   ]
  },
  {
   "cell_type": "code",
   "execution_count": 36,
   "metadata": {
    "collapsed": false
   },
   "outputs": [
    {
     "name": "stdout",
     "output_type": "stream",
     "text": [
      "7\n",
      "12\n",
      "12\n",
      "12\n",
      "12\n",
      "12\n"
     ]
    },
    {
     "data": {
      "text/plain": [
       "\u001b[36mres35\u001b[0m: \u001b[32mInt\u001b[0m = \u001b[32m12\u001b[0m"
      ]
     },
     "metadata": {},
     "output_type": "display_data"
    }
   ],
   "source": [
    "max2A(7)"
   ]
  },
  {
   "cell_type": "code",
   "execution_count": 37,
   "metadata": {
    "collapsed": false
   },
   "outputs": [
    {
     "data": {
      "text/plain": [
       "\u001b[36mres36\u001b[0m: \u001b[32mInt\u001b[0m = \u001b[32m3\u001b[0m"
      ]
     },
     "metadata": {},
     "output_type": "display_data"
    }
   ],
   "source": [
    "Solution.minSteps(3)"
   ]
  },
  {
   "cell_type": "code",
   "execution_count": 38,
   "metadata": {
    "collapsed": false
   },
   "outputs": [
    {
     "data": {
      "text/plain": [
       "\u001b[36mres37\u001b[0m: \u001b[32mInt\u001b[0m = \u001b[32m6\u001b[0m"
      ]
     },
     "metadata": {},
     "output_type": "display_data"
    }
   ],
   "source": [
    "Solution.minSteps(9)"
   ]
  },
  {
   "cell_type": "code",
   "execution_count": 39,
   "metadata": {
    "collapsed": false
   },
   "outputs": [
    {
     "data": {
      "text/plain": [
       "\u001b[36mres38\u001b[0m: \u001b[32mInt\u001b[0m = \u001b[32m4\u001b[0m"
      ]
     },
     "metadata": {},
     "output_type": "display_data"
    }
   ],
   "source": [
    "Solution.minSteps(4)"
   ]
  },
  {
   "cell_type": "code",
   "execution_count": 40,
   "metadata": {
    "collapsed": false
   },
   "outputs": [
    {
     "data": {
      "text/plain": [
       "\u001b[36mres39\u001b[0m: \u001b[32mInt\u001b[0m = \u001b[32m7\u001b[0m"
      ]
     },
     "metadata": {},
     "output_type": "display_data"
    }
   ],
   "source": [
    "Solution.minSteps(7)"
   ]
  },
  {
   "cell_type": "code",
   "execution_count": 41,
   "metadata": {
    "collapsed": false
   },
   "outputs": [
    {
     "data": {
      "text/plain": [
       "\u001b[36mres40\u001b[0m: \u001b[32mInt\u001b[0m = \u001b[32m8\u001b[0m"
      ]
     },
     "metadata": {},
     "output_type": "display_data"
    }
   ],
   "source": [
    "Solution.minSteps(18)"
   ]
  },
  {
   "cell_type": "markdown",
   "metadata": {
    "collapsed": true
   },
   "source": [
    "#  502. IPO\n",
    "Suppose LeetCode will start its IPO soon. In order to sell a good price of its shares to Venture Capital, LeetCode would like to work on some projects to increase its capital before the IPO. Since it has limited resources, it can only finish at most k distinct projects before the IPO. Help LeetCode design the best way to maximize its total capital after finishing at most k distinct projects.\n",
    "\n",
    "You are given several projects. For each project i, it has a pure profit Pi and a minimum capital of Ci is needed to start the corresponding project. Initially, you have W capital. When you finish a project, you will obtain its pure profit and the profit will be added to your total capital.\n",
    "\n",
    "To sum up, pick a list of at most k distinct projects from given projects to maximize your final capital, and output your final maximized capital.\n",
    "\n",
    "Example 1:\n",
    "Input: k=2, W=0, Profits=[1,2,3], Capital=[0,1,1].\n",
    "\n",
    "Output: 4\n",
    "\n",
    "Explanation: Since your initial capital is 0, you can only start the project indexed 0.\n",
    "             After finishing it you will obtain profit 1 and your capital becomes 1.\n",
    "             With capital 1, you can either start the project indexed 1 or the project indexed 2.\n",
    "             Since you can choose at most 2 projects, you need to finish the project indexed 2 to get the maximum capital.\n",
    "             Therefore, output the final maximized capital, which is 0 + 1 + 3 = 4."
   ]
  },
  {
   "cell_type": "code",
   "execution_count": 82,
   "metadata": {
    "collapsed": false
   },
   "outputs": [
    {
     "data": {
      "text/plain": [
       "defined \u001b[32mobject \u001b[36mSolution\u001b[0m"
      ]
     },
     "metadata": {},
     "output_type": "display_data"
    }
   ],
   "source": [
    "object Solution {\n",
    "   def findMaximizedCapital(k: Int, W: Int, Profits: Array[Int], Capital: Array[Int]): Int = {\n",
    "        var projects = Array.fill(Profits.length){true}\n",
    "        var dp = Array.fill(k+1){0}\n",
    "        var output = W\n",
    "        var _p = 0\n",
    "        for (i<- 1 to k){\n",
    "           for(p <- 0 to projects.length-1){\n",
    "             if(projects(p)&& Capital(p)<=output&&Profits(p)>dp(i)){\n",
    "               dp(i) = Profits(p)\n",
    "               _p = p\n",
    "             }\n",
    "           }\n",
    "            projects(_p) = false\n",
    "           output += dp(i)\n",
    "        }\n",
    "        return output\n",
    "    } \n",
    "}"
   ]
  },
  {
   "cell_type": "code",
   "execution_count": 83,
   "metadata": {
    "collapsed": false
   },
   "outputs": [
    {
     "data": {
      "text/plain": [
       "\u001b[36mres82\u001b[0m: \u001b[32mInt\u001b[0m = \u001b[32m4\u001b[0m"
      ]
     },
     "metadata": {},
     "output_type": "display_data"
    }
   ],
   "source": [
    "Solution.findMaximizedCapital(2,0,Array(1,2,3),Array(0,1,1))"
   ]
  },
  {
   "cell_type": "code",
   "execution_count": null,
   "metadata": {
    "collapsed": true
   },
   "outputs": [],
   "source": []
  }
 ],
 "metadata": {
  "kernelspec": {
   "display_name": "Scala 2.11",
   "language": "scala211",
   "name": "scala211"
  },
  "language_info": {
   "codemirror_mode": "text/x-scala",
   "file_extension": ".scala",
   "mimetype": "text/x-scala",
   "name": "scala211",
   "pygments_lexer": "scala",
   "version": "2.11.7"
  }
 },
 "nbformat": 4,
 "nbformat_minor": 1
}
